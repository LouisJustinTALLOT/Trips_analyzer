{
 "cells": [
  {
   "cell_type": "code",
   "execution_count": 2,
   "metadata": {},
   "outputs": [],
   "source": [
    "from analyse_trips import *\n",
    "import geopandas as gpd\n",
    "import shapely as shp\n",
    "import matplotlib.pyplot as plt\n",
    "import pandas as pd\n",
    "import numpy as np\n",
    "import json"
   ]
  },
  {
   "cell_type": "code",
   "execution_count": 3,
   "metadata": {},
   "outputs": [],
   "source": [
    "gdf = load_data(\"mapstr_2024_04_24.geojson\")\n",
    "#   https://www.youtube.com/watch?v=xu1wRfUHtKg \n",
    "plot_interactive_map(gdf)"
   ]
  },
  {
   "cell_type": "code",
   "execution_count": 4,
   "metadata": {},
   "outputs": [],
   "source": [
    "gdf.head()"
   ]
  },
  {
   "cell_type": "code",
   "execution_count": 5,
   "metadata": {},
   "outputs": [],
   "source": [
    "# drop column a\n",
    "gdf.drop(columns=\"userComment\", inplace=True)\n",
    "gdf.drop(columns=\"icon\", inplace=True)\n",
    "gdf.head()"
   ]
  },
  {
   "cell_type": "code",
   "execution_count": 72,
   "metadata": {},
   "outputs": [],
   "source": [
    "visited_departements = set(gdf[\"departement\"])\n",
    "visited_departements.remove(np.nan)\n",
    "len(visited_departements)"
   ]
  },
  {
   "cell_type": "code",
   "execution_count": 21,
   "metadata": {},
   "outputs": [],
   "source": [
    "gdf = gdf.to_crs(\"EPSG:4087\")\n",
    "world_countries_gdf = world_countries_gdf.to_crs(\"EPSG:4087\")\n",
    "\n",
    "set(gdf.distance(world_countries_gdf.unary_union))"
   ]
  },
  {
   "cell_type": "code",
   "execution_count": 25,
   "metadata": {},
   "outputs": [],
   "source": [
    "world_union = world_countries_gdf.unary_union\n",
    "\n",
    "nearest_countries = []\n",
    "for point in gdf[\"geometry\"]:\n",
    "    nearest_geom = shp.ops.nearest_points(point, world_union)[1]\n",
    "    nearest_country = world_countries_gdf[\n",
    "        world_countries_gdf[\"geometry\"] == nearest_geom\n",
    "    ]#[\"name\"].values[0]\n",
    "    \n",
    "    nearest_countries.append(nearest_country)\n",
    "    \n",
    "nearest_countries"
   ]
  },
  {
   "cell_type": "code",
   "execution_count": 48,
   "metadata": {},
   "outputs": [],
   "source": [
    "from shapely import STRtree\n",
    "\n",
    "tree = STRtree(world_countries_gdf[\"geometry\"])\n",
    "nearest_countries = []\n",
    "for point in gdf[\"geometry\"]:\n",
    "    # point = gdf[\"geometry\"].iloc[249]\n",
    "    nearest_geom = tree.nearest(point)\n",
    "    # break\n",
    "    nearest_country = world_countries_gdf.loc[nearest_geom]\n",
    "\n",
    "    nearest_countries.append(nearest_country)\n",
    "# world_countries_gdf.loc[nearest_geom]\n",
    "country = gpd.GeoDataFrame(nearest_countries, index=gdf.index)\n"
   ]
  }
 ],
 "metadata": {
  "kernelspec": {
   "display_name": "python_3_12",
   "language": "python",
   "name": "python3"
  },
  "language_info": {
   "codemirror_mode": {
    "name": "ipython",
    "version": 3
   },
   "file_extension": ".py",
   "mimetype": "text/x-python",
   "name": "python",
   "nbconvert_exporter": "python",
   "pygments_lexer": "ipython3",
   "version": "3.12.0"
  }
 },
 "nbformat": 4,
 "nbformat_minor": 2
}
