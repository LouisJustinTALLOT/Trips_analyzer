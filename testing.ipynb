{
 "cells": [
  {
   "cell_type": "code",
   "execution_count": 55,
   "metadata": {},
   "outputs": [],
   "source": [
    "from analyse_trips import *\n",
    "import geopandas as gpd\n",
    "import shapely as shp\n",
    "import matplotlib.pyplot as plt\n",
    "import pandas as pd\n",
    "import json"
   ]
  },
  {
   "cell_type": "code",
   "execution_count": 38,
   "metadata": {},
   "outputs": [],
   "source": [
    "gdf = load_data(\"mapstr_2024_04_24.geojson\")\n",
    "#   https://www.youtube.com/watch?v=xu1wRfUHtKg \n",
    "plot_interactive_map(gdf)"
   ]
  },
  {
   "cell_type": "code",
   "execution_count": 39,
   "metadata": {},
   "outputs": [],
   "source": [
    "gdf.head()"
   ]
  },
  {
   "cell_type": "code",
   "execution_count": 40,
   "metadata": {},
   "outputs": [],
   "source": [
    "# drop column a\n",
    "gdf.drop(columns=\"userComment\", inplace=True)\n",
    "gdf.drop(columns=\"icon\", inplace=True)\n",
    "gdf.head()"
   ]
  },
  {
   "cell_type": "code",
   "execution_count": 70,
   "metadata": {},
   "outputs": [],
   "source": [
    "def unpack_tag(tag_series: str) -> pd.DataFrame:\n",
    "    list_tags = [json.loads(tag) for tag in tag_series]\n",
    "    print(list_tags)\n",
    "    # ta = pd.Series([x[\"name\"] for x in list_tags], name=\"Type\")\n",
    "    tag_names = []\n",
    "    for tag in list_tags:\n",
    "        tag_names.append([x[\"name\"] for x in tag])\n",
    "\n",
    "    colors = []\n",
    "    for tag in list_tags:\n",
    "        colors.append([x[\"color\"] for x in tag])\n",
    "\n",
    "    return pd.DataFrame({\"type\": pd.Series(tag_names), \"color\": pd.Series(colors)})\n",
    "    # colors = pd.Series([x[\"color\"] for x in list_tags], name=\"Colors\")\n",
    "    # return pd.DataFrame({\"type\": tag_names, \"colors\": colors})\n",
    "\n",
    "\n",
    "# gdf[\"tags\"].apply(unpack_tag).loc[:]\n",
    "unpack_tag(gdf[\"tags\"])"
   ]
  }
 ],
 "metadata": {
  "kernelspec": {
   "display_name": "python_3_12",
   "language": "python",
   "name": "python3"
  },
  "language_info": {
   "codemirror_mode": {
    "name": "ipython",
    "version": 3
   },
   "file_extension": ".py",
   "mimetype": "text/x-python",
   "name": "python",
   "nbconvert_exporter": "python",
   "pygments_lexer": "ipython3",
   "version": "3.12.0"
  }
 },
 "nbformat": 4,
 "nbformat_minor": 2
}
