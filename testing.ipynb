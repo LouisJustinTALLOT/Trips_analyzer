{
 "cells": [
  {
   "cell_type": "code",
   "execution_count": null,
   "metadata": {},
   "outputs": [],
   "source": [
    "from analyse_trips import *\n",
    "import geopandas as gpd\n",
    "import shapely as shp\n",
    "import matplotlib.pyplot as plt\n",
    "import pandas as pd\n",
    "import numpy as np\n",
    "import json\n",
    "import folium\n",
    "from folium import plugins"
   ]
  },
  {
   "cell_type": "code",
   "execution_count": null,
   "metadata": {},
   "outputs": [],
   "source": [
    "gdf = load_data(\"mapstr_2024_04_24.geojson\")\n",
    "#   https://www.youtube.com/watch?v=xu1wRfUHtKg \n",
    "plot_interactive_map(gdf)"
   ]
  },
  {
   "cell_type": "code",
   "execution_count": null,
   "metadata": {},
   "outputs": [],
   "source": [
    "gdf.head()"
   ]
  },
  {
   "cell_type": "code",
   "execution_count": null,
   "metadata": {},
   "outputs": [],
   "source": [
    "# drop column a\n",
    "gdf.drop(columns=\"userComment\", inplace=True)\n",
    "gdf.drop(columns=\"icon\", inplace=True)\n",
    "gdf.head()"
   ]
  },
  {
   "cell_type": "code",
   "execution_count": null,
   "metadata": {},
   "outputs": [],
   "source": [
    "unpack_tag(gdf[\"tags\"])"
   ]
  },
  {
   "cell_type": "code",
   "execution_count": null,
   "metadata": {},
   "outputs": [],
   "source": [
    "plot_interactive_map(load_data(FRENCH_DEPARTEMENTS))"
   ]
  },
  {
   "cell_type": "code",
   "execution_count": null,
   "metadata": {},
   "outputs": [],
   "source": [
    "plot_interactive_map(load_data(WORLD_COUNTRIES))\n"
   ]
  },
  {
   "cell_type": "code",
   "execution_count": null,
   "metadata": {},
   "outputs": [],
   "source": [
    "plot_interactive_map(load_data(\"data/german_lander.geojson\"))"
   ]
  },
  {
   "cell_type": "code",
   "execution_count": null,
   "metadata": {},
   "outputs": [],
   "source": [
    "world_countries_gdf = load_data(WORLD_COUNTRIES)\n",
    "world_countries_gdf"
   ]
  },
  {
   "cell_type": "code",
   "execution_count": null,
   "metadata": {},
   "outputs": [],
   "source": [
    "joined = gpd.sjoin(gdf, world_countries_gdf, how=\"inner\", predicate='intersects')\n",
    "print(len(set(joined[\"french_short\"])))\n",
    "joined"
   ]
  },
  {
   "cell_type": "code",
   "execution_count": null,
   "metadata": {},
   "outputs": [],
   "source": [
    "gdf[\"country\"] = joined[\"name_right\"]\n",
    "gdf[\"country_FR\"] = joined[\"french_short\"]\n",
    "gdf[\"continent\"] = joined[\"continent\"]\n",
    "gdf\n"
   ]
  },
  {
   "cell_type": "code",
   "execution_count": null,
   "metadata": {},
   "outputs": [],
   "source": [
    "departements_gdf = load_data(FRENCH_DEPARTEMENTS)\n",
    "departements_gdf"
   ]
  },
  {
   "cell_type": "code",
   "execution_count": null,
   "metadata": {},
   "outputs": [],
   "source": [
    "joined = gpd.sjoin(gdf, departements_gdf, how=\"inner\", predicate='intersects')\n",
    "joined"
   ]
  },
  {
   "cell_type": "code",
   "execution_count": null,
   "metadata": {},
   "outputs": [],
   "source": [
    "gdf[\"departement\"] = joined[\"nom\"]\n",
    "gdf"
   ]
  },
  {
   "cell_type": "code",
   "execution_count": null,
   "metadata": {},
   "outputs": [],
   "source": [
    "unpack_tag(gdf[\"tags\"])"
   ]
  },
  {
   "cell_type": "code",
   "execution_count": null,
   "metadata": {},
   "outputs": [],
   "source": [
    "plot_interactive_map(load_data(FRENCH_DEPARTEMENTS))"
   ]
  },
  {
   "cell_type": "code",
   "execution_count": null,
   "metadata": {},
   "outputs": [],
   "source": [
    "plot_interactive_map(load_data(WORLD_COUNTRIES))\n"
   ]
  },
  {
   "cell_type": "code",
   "execution_count": null,
   "metadata": {},
   "outputs": [],
   "source": [
    "world_countries_gdf = load_data(WORLD_COUNTRIES)\n",
    "world_countries_gdf"
   ]
  },
  {
   "cell_type": "code",
   "execution_count": null,
   "metadata": {},
   "outputs": [],
   "source": [
    "joined = gpd.sjoin(gdf, world_countries_gdf, how=\"inner\", predicate='intersects')\n",
    "print(len(set(joined[\"french_short\"])))\n",
    "joined"
   ]
  },
  {
   "cell_type": "code",
   "execution_count": null,
   "metadata": {},
   "outputs": [],
   "source": [
    "gdf[\"country\"] = joined[\"name_right\"]\n",
    "gdf[\"country_FR\"] = joined[\"french_short\"]\n",
    "gdf[\"continent\"] = joined[\"continent\"]\n",
    "gdf\n"
   ]
  },
  {
   "cell_type": "code",
   "execution_count": null,
   "metadata": {},
   "outputs": [],
   "source": [
    "departements_gdf = load_data(FRENCH_DEPARTEMENTS)\n",
    "departements_gdf"
   ]
  },
  {
   "cell_type": "code",
   "execution_count": null,
   "metadata": {},
   "outputs": [],
   "source": [
    "joined = gpd.sjoin(gdf, departements_gdf, how=\"inner\", predicate='intersects')\n",
    "joined"
   ]
  },
  {
   "cell_type": "code",
   "execution_count": null,
   "metadata": {},
   "outputs": [],
   "source": [
    "gdf[\"departement\"] = joined[\"nom\"]\n",
    "gdf"
   ]
  },
  {
   "cell_type": "code",
   "execution_count": null,
   "metadata": {},
   "outputs": [],
   "source": [
    "visited_departements = set(gdf[\"departement\"])\n",
    "visited_departements.remove(np.nan)\n",
    "len(visited_departements)"
   ]
  },
  {
   "cell_type": "code",
   "execution_count": null,
   "metadata": {},
   "outputs": [],
   "source": [
    "gdf = gdf.to_crs(\"EPSG:4087\")\n",
    "world_countries_gdf = world_countries_gdf.to_crs(\"EPSG:4087\")\n",
    "\n",
    "set(gdf.distance(world_countries_gdf.unary_union))"
   ]
  },
  {
   "cell_type": "code",
   "execution_count": null,
   "metadata": {},
   "outputs": [],
   "source": [
    "world_union = world_countries_gdf.unary_union\n",
    "\n",
    "nearest_countries = []\n",
    "for point in gdf[\"geometry\"]:\n",
    "    nearest_geom = shp.ops.nearest_points(point, world_union)[1]\n",
    "    nearest_country = world_countries_gdf[\n",
    "        world_countries_gdf[\"geometry\"] == nearest_geom\n",
    "    ]#[\"name\"].values[0]\n",
    "    \n",
    "    nearest_countries.append(nearest_country)\n",
    "    \n",
    "nearest_countries"
   ]
  },
  {
   "cell_type": "code",
   "execution_count": null,
   "metadata": {},
   "outputs": [],
   "source": [
    "from shapely import STRtree\n",
    "\n",
    "tree = STRtree(world_countries_gdf[\"geometry\"])\n",
    "nearest_countries = []\n",
    "for point in gdf[\"geometry\"]:\n",
    "    # point = gdf[\"geometry\"].iloc[249]\n",
    "    nearest_geom = tree.nearest(point)\n",
    "    # break\n",
    "    nearest_country = world_countries_gdf.loc[nearest_geom]\n",
    "\n",
    "    nearest_countries.append(nearest_country)\n",
    "# world_countries_gdf.loc[nearest_geom]\n",
    "country = gpd.GeoDataFrame(nearest_countries, index=gdf.index)\n"
   ]
  },
  {
   "cell_type": "markdown",
   "metadata": {},
   "source": [
    "## Graphical representations with Folium"
   ]
  },
  {
   "cell_type": "code",
   "execution_count": null,
   "metadata": {},
   "outputs": [],
   "source": [
    "gdf = clean_mapstr_data(load_data(\"mapstr_2024_04_24.geojson\"))\n",
    "\n",
    "map = folium.Map(location=[15, -20], tiles=\"Cartodb dark_matter\", zoom_start=2)\n",
    "\n",
    "\n",
    "heat_data = [[point.xy[1][0], point.xy[0][0]] for point in gdf.to_crs(crs=4326).geometry]\n",
    "\n",
    "heat_data\n",
    "plugins.HeatMap(heat_data).add_to(map)\n",
    "\n",
    "map"
   ]
  },
  {
   "cell_type": "code",
   "execution_count": null,
   "metadata": {},
   "outputs": [],
   "source": [
    "gdf_france = gdf[gdf[\"country\"] == \"France\"]\n",
    "gdf_france.explore()"
   ]
  },
  {
   "cell_type": "code",
   "execution_count": null,
   "metadata": {},
   "outputs": [],
   "source": [
    "departements_dict = {}\n",
    "for dep in gdf_france[\"departement\"]:\n",
    "    if dep is not np.nan:\n",
    "        try:\n",
    "            departements_dict[dep] += 1\n",
    "        except KeyError:\n",
    "            departements_dict[dep] = 1\n",
    "# departements_dict = set(gdf_france[\"departement\"])\n",
    "# departements_dict.remove(np.nan)\n",
    "gdf_departements = departements_gdf[departements_gdf[\"nom\"].isin(departements_dict.keys())]\n",
    "gdf_departements[\"count\"] = [departements_dict[dep] for dep in gdf_departements[\"nom\"]]\n",
    "gdf_departements.explore(\"count\", scheme=\"natural_breaks\", k=9, cmap=\"magma_r\")"
   ]
  },
  {
   "cell_type": "code",
   "execution_count": null,
   "metadata": {},
   "outputs": [],
   "source": [
    "# folium plot of the visited departements\n",
    "map = folium.Map(location=[47.1, 2.4], zoom_start=6)\n",
    "# add all departements polygons\n",
    "for i, row in gdf_departements.iterrows():\n",
    "    folium.GeoJson(row[\"geometry\"]).add_to(map)\n",
    "map"
   ]
  },
  {
   "cell_type": "code",
   "execution_count": null,
   "metadata": {},
   "outputs": [],
   "source": [
    "gdf_us = gdf[gdf[\"country\"] == \"United States of America\"]\n",
    "us_states_gdf = load_data(\"data/us_states.geojson\")\n",
    "\n",
    "us_states_dict = {}\n",
    "for dep in gdf_us[\"US_state\"]:\n",
    "    if dep is not np.nan:\n",
    "        try:\n",
    "            us_states_dict[dep] += 1\n",
    "        except KeyError:\n",
    "            us_states_dict[dep] = 1\n",
    "\n",
    "gdf_us_states_visited = us_states_gdf[us_states_gdf[\"NAME\"].isin(us_states_dict.keys())]\n",
    "gdf_us_states_visited[\"count\"] = [us_states_dict[dep] for dep in gdf_us_states_visited[\"NAME\"]]\n",
    "gdf_us_states_visited.explore(\"count\", scheme=\"natural_breaks\", k=9, cmap=\"magma_r\")"
   ]
  }
 ],
 "metadata": {
  "kernelspec": {
   "display_name": "python_3_12",
   "language": "python",
   "name": "python3"
  },
  "language_info": {
   "codemirror_mode": {
    "name": "ipython",
    "version": 3
   },
   "file_extension": ".py",
   "mimetype": "text/x-python",
   "name": "python",
   "nbconvert_exporter": "python",
   "pygments_lexer": "ipython3",
   "version": "3.12.0"
  }
 },
 "nbformat": 4,
 "nbformat_minor": 2
}
